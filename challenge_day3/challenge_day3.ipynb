{
 "cells": [
  {
   "attachments": {},
   "cell_type": "markdown",
   "metadata": {},
   "source": [
    "# Observation Challenge\n",
    "\n",
    "In this challenge, you have to create an algorithm based on several algorithm parts.\n",
    "\n",
    "## Stations\n",
    "Across the JK building, we have placed several stations. At each station, you can find sample inputs and their expected outputs for one of the algorithm parts.\n",
    "You must decipher the algorithm behind each station yourself.\n",
    "The locations of all the stations are listed on the door of JK2.05.\n",
    "\n",
    "# Your task\n",
    "- Create files in this directory named station1.py, station2.py, etc.\n",
    "- Each member of the team must commit (including any changes) at least one of these files.\n",
    "- Each of these files contains a function named solution_station_X(), where X is the station number, same as the file name\n",
    "- Fill out the cell below and generate the correct overall output\n",
    "- You are allowed to use all built-in Python modules, as well as numpy and pandas in your solutions."
   ]
  },
  {
   "cell_type": "code",
   "execution_count": 1,
   "metadata": {},
   "outputs": [
    {
     "name": "stdout",
     "output_type": "stream",
     "text": [
      "日曜日\n",
      "False\n"
     ]
    },
    {
     "ename": "FileNotFoundError",
     "evalue": "[Errno 2] No such file or directory: 'challenge_day3/teamsnames.xlsx'",
     "output_type": "error",
     "traceback": [
      "\u001b[0;31m---------------------------------------------------------------------------\u001b[0m",
      "\u001b[0;31mFileNotFoundError\u001b[0m                         Traceback (most recent call last)",
      "\u001b[1;32m/Users/martynapiskorz/Documents/GitHub/computational-thinking-week-group-CarPark/challenge_day3/challenge_day3.ipynb Cell 2\u001b[0m in \u001b[0;36m<cell line: 35>\u001b[0;34m()\u001b[0m\n\u001b[1;32m     <a href='vscode-notebook-cell:/Users/martynapiskorz/Documents/GitHub/computational-thinking-week-group-CarPark/challenge_day3/challenge_day3.ipynb#W1sZmlsZQ%3D%3D?line=31'>32</a>\u001b[0m     \u001b[39massert\u001b[39;00m \u001b[39misinstance\u001b[39m(output7, \u001b[39mfloat\u001b[39m)\n\u001b[1;32m     <a href='vscode-notebook-cell:/Users/martynapiskorz/Documents/GitHub/computational-thinking-week-group-CarPark/challenge_day3/challenge_day3.ipynb#W1sZmlsZQ%3D%3D?line=32'>33</a>\u001b[0m     \u001b[39mreturn\u001b[39;00m output1 \u001b[39m*\u001b[39m \u001b[39mint\u001b[39m\u001b[39m.\u001b[39mfrom_bytes(output2[\u001b[39m0\u001b[39m]\u001b[39m.\u001b[39mencode(\u001b[39m\"\u001b[39m\u001b[39municode_escape\u001b[39m\u001b[39m\"\u001b[39m), byteorder\u001b[39m=\u001b[39m\u001b[39m'\u001b[39m\u001b[39mbig\u001b[39m\u001b[39m'\u001b[39m) \u001b[39m*\u001b[39m (\u001b[39m3\u001b[39m \u001b[39mif\u001b[39;00m output3 \u001b[39melse\u001b[39;00m \u001b[39m2\u001b[39m) \u001b[39m*\u001b[39m (\u001b[39m5\u001b[39m \u001b[39mif\u001b[39;00m output4 \u001b[39melse\u001b[39;00m \u001b[39m4\u001b[39m) \u001b[39m*\u001b[39m output5 \u001b[39m*\u001b[39m output6 \u001b[39m*\u001b[39m output7\n\u001b[0;32m---> <a href='vscode-notebook-cell:/Users/martynapiskorz/Documents/GitHub/computational-thinking-week-group-CarPark/challenge_day3/challenge_day3.ipynb#W1sZmlsZQ%3D%3D?line=34'>35</a>\u001b[0m FINAL_OUTPUT1 \u001b[39m=\u001b[39m combined_algorithm(observation1)\n\u001b[1;32m     <a href='vscode-notebook-cell:/Users/martynapiskorz/Documents/GitHub/computational-thinking-week-group-CarPark/challenge_day3/challenge_day3.ipynb#W1sZmlsZQ%3D%3D?line=35'>36</a>\u001b[0m FINAL_OUTPUT2 \u001b[39m=\u001b[39m combined_algorithm(observation2)\n\u001b[1;32m     <a href='vscode-notebook-cell:/Users/martynapiskorz/Documents/GitHub/computational-thinking-week-group-CarPark/challenge_day3/challenge_day3.ipynb#W1sZmlsZQ%3D%3D?line=36'>37</a>\u001b[0m FINAL_OUTPUT3 \u001b[39m=\u001b[39m combined_algorithm(observation3)\n",
      "\u001b[1;32m/Users/martynapiskorz/Documents/GitHub/computational-thinking-week-group-CarPark/challenge_day3/challenge_day3.ipynb Cell 2\u001b[0m in \u001b[0;36mcombined_algorithm\u001b[0;34m(observations)\u001b[0m\n\u001b[1;32m     <a href='vscode-notebook-cell:/Users/martynapiskorz/Documents/GitHub/computational-thinking-week-group-CarPark/challenge_day3/challenge_day3.ipynb#W1sZmlsZQ%3D%3D?line=20'>21</a>\u001b[0m output3 \u001b[39m=\u001b[39m solution_station_3(observations[\u001b[39m3\u001b[39m])\n\u001b[1;32m     <a href='vscode-notebook-cell:/Users/martynapiskorz/Documents/GitHub/computational-thinking-week-group-CarPark/challenge_day3/challenge_day3.ipynb#W1sZmlsZQ%3D%3D?line=21'>22</a>\u001b[0m output4 \u001b[39m=\u001b[39m solution_station_4(observations[\u001b[39m4\u001b[39m])\n\u001b[0;32m---> <a href='vscode-notebook-cell:/Users/martynapiskorz/Documents/GitHub/computational-thinking-week-group-CarPark/challenge_day3/challenge_day3.ipynb#W1sZmlsZQ%3D%3D?line=22'>23</a>\u001b[0m output5 \u001b[39m=\u001b[39m solution_station_5(observations[\u001b[39m5\u001b[39;49m])\n\u001b[1;32m     <a href='vscode-notebook-cell:/Users/martynapiskorz/Documents/GitHub/computational-thinking-week-group-CarPark/challenge_day3/challenge_day3.ipynb#W1sZmlsZQ%3D%3D?line=23'>24</a>\u001b[0m output6 \u001b[39m=\u001b[39m solution_station_6(observations[\u001b[39m6\u001b[39m])\n\u001b[1;32m     <a href='vscode-notebook-cell:/Users/martynapiskorz/Documents/GitHub/computational-thinking-week-group-CarPark/challenge_day3/challenge_day3.ipynb#W1sZmlsZQ%3D%3D?line=24'>25</a>\u001b[0m output7 \u001b[39m=\u001b[39m solution_station_7(observations[\u001b[39m7\u001b[39m])\n",
      "File \u001b[0;32m~/Documents/GitHub/computational-thinking-week-group-CarPark/challenge_day3/station5.py:5\u001b[0m, in \u001b[0;36msolution_station_5\u001b[0;34m(name)\u001b[0m\n\u001b[1;32m      3\u001b[0m \u001b[39mdef\u001b[39;00m \u001b[39msolution_station_5\u001b[39m(name):\n\u001b[1;32m      4\u001b[0m     table_path \u001b[39m=\u001b[39m \u001b[39m\"\u001b[39m\u001b[39mchallenge_day3/teamsnames.xlsx\u001b[39m\u001b[39m\"\u001b[39m\n\u001b[0;32m----> 5\u001b[0m     df \u001b[39m=\u001b[39m pd\u001b[39m.\u001b[39;49mread_excel(table_path)\n\u001b[1;32m      7\u001b[0m     \u001b[39mtry\u001b[39;00m:\n\u001b[1;32m      8\u001b[0m         team \u001b[39m=\u001b[39m df\u001b[39m.\u001b[39mloc[df[\u001b[39m'\u001b[39m\u001b[39mStudent firstname\u001b[39m\u001b[39m'\u001b[39m] \u001b[39m==\u001b[39m name, \u001b[39m'\u001b[39m\u001b[39mTeam\u001b[39m\u001b[39m'\u001b[39m]\u001b[39m.\u001b[39mvalues[\u001b[39m0\u001b[39m]\n",
      "File \u001b[0;32m~/opt/anaconda3/lib/python3.9/site-packages/pandas/util/_decorators.py:311\u001b[0m, in \u001b[0;36mdeprecate_nonkeyword_arguments.<locals>.decorate.<locals>.wrapper\u001b[0;34m(*args, **kwargs)\u001b[0m\n\u001b[1;32m    305\u001b[0m \u001b[39mif\u001b[39;00m \u001b[39mlen\u001b[39m(args) \u001b[39m>\u001b[39m num_allow_args:\n\u001b[1;32m    306\u001b[0m     warnings\u001b[39m.\u001b[39mwarn(\n\u001b[1;32m    307\u001b[0m         msg\u001b[39m.\u001b[39mformat(arguments\u001b[39m=\u001b[39marguments),\n\u001b[1;32m    308\u001b[0m         \u001b[39mFutureWarning\u001b[39;00m,\n\u001b[1;32m    309\u001b[0m         stacklevel\u001b[39m=\u001b[39mstacklevel,\n\u001b[1;32m    310\u001b[0m     )\n\u001b[0;32m--> 311\u001b[0m \u001b[39mreturn\u001b[39;00m func(\u001b[39m*\u001b[39;49margs, \u001b[39m*\u001b[39;49m\u001b[39m*\u001b[39;49mkwargs)\n",
      "File \u001b[0;32m~/opt/anaconda3/lib/python3.9/site-packages/pandas/io/excel/_base.py:457\u001b[0m, in \u001b[0;36mread_excel\u001b[0;34m(io, sheet_name, header, names, index_col, usecols, squeeze, dtype, engine, converters, true_values, false_values, skiprows, nrows, na_values, keep_default_na, na_filter, verbose, parse_dates, date_parser, thousands, decimal, comment, skipfooter, convert_float, mangle_dupe_cols, storage_options)\u001b[0m\n\u001b[1;32m    455\u001b[0m \u001b[39mif\u001b[39;00m \u001b[39mnot\u001b[39;00m \u001b[39misinstance\u001b[39m(io, ExcelFile):\n\u001b[1;32m    456\u001b[0m     should_close \u001b[39m=\u001b[39m \u001b[39mTrue\u001b[39;00m\n\u001b[0;32m--> 457\u001b[0m     io \u001b[39m=\u001b[39m ExcelFile(io, storage_options\u001b[39m=\u001b[39;49mstorage_options, engine\u001b[39m=\u001b[39;49mengine)\n\u001b[1;32m    458\u001b[0m \u001b[39melif\u001b[39;00m engine \u001b[39mand\u001b[39;00m engine \u001b[39m!=\u001b[39m io\u001b[39m.\u001b[39mengine:\n\u001b[1;32m    459\u001b[0m     \u001b[39mraise\u001b[39;00m \u001b[39mValueError\u001b[39;00m(\n\u001b[1;32m    460\u001b[0m         \u001b[39m\"\u001b[39m\u001b[39mEngine should not be specified when passing \u001b[39m\u001b[39m\"\u001b[39m\n\u001b[1;32m    461\u001b[0m         \u001b[39m\"\u001b[39m\u001b[39man ExcelFile - ExcelFile already has the engine set\u001b[39m\u001b[39m\"\u001b[39m\n\u001b[1;32m    462\u001b[0m     )\n",
      "File \u001b[0;32m~/opt/anaconda3/lib/python3.9/site-packages/pandas/io/excel/_base.py:1376\u001b[0m, in \u001b[0;36mExcelFile.__init__\u001b[0;34m(self, path_or_buffer, engine, storage_options)\u001b[0m\n\u001b[1;32m   1374\u001b[0m     ext \u001b[39m=\u001b[39m \u001b[39m\"\u001b[39m\u001b[39mxls\u001b[39m\u001b[39m\"\u001b[39m\n\u001b[1;32m   1375\u001b[0m \u001b[39melse\u001b[39;00m:\n\u001b[0;32m-> 1376\u001b[0m     ext \u001b[39m=\u001b[39m inspect_excel_format(\n\u001b[1;32m   1377\u001b[0m         content_or_path\u001b[39m=\u001b[39;49mpath_or_buffer, storage_options\u001b[39m=\u001b[39;49mstorage_options\n\u001b[1;32m   1378\u001b[0m     )\n\u001b[1;32m   1379\u001b[0m     \u001b[39mif\u001b[39;00m ext \u001b[39mis\u001b[39;00m \u001b[39mNone\u001b[39;00m:\n\u001b[1;32m   1380\u001b[0m         \u001b[39mraise\u001b[39;00m \u001b[39mValueError\u001b[39;00m(\n\u001b[1;32m   1381\u001b[0m             \u001b[39m\"\u001b[39m\u001b[39mExcel file format cannot be determined, you must specify \u001b[39m\u001b[39m\"\u001b[39m\n\u001b[1;32m   1382\u001b[0m             \u001b[39m\"\u001b[39m\u001b[39man engine manually.\u001b[39m\u001b[39m\"\u001b[39m\n\u001b[1;32m   1383\u001b[0m         )\n",
      "File \u001b[0;32m~/opt/anaconda3/lib/python3.9/site-packages/pandas/io/excel/_base.py:1250\u001b[0m, in \u001b[0;36minspect_excel_format\u001b[0;34m(content_or_path, storage_options)\u001b[0m\n\u001b[1;32m   1247\u001b[0m \u001b[39mif\u001b[39;00m \u001b[39misinstance\u001b[39m(content_or_path, \u001b[39mbytes\u001b[39m):\n\u001b[1;32m   1248\u001b[0m     content_or_path \u001b[39m=\u001b[39m BytesIO(content_or_path)\n\u001b[0;32m-> 1250\u001b[0m \u001b[39mwith\u001b[39;00m get_handle(\n\u001b[1;32m   1251\u001b[0m     content_or_path, \u001b[39m\"\u001b[39;49m\u001b[39mrb\u001b[39;49m\u001b[39m\"\u001b[39;49m, storage_options\u001b[39m=\u001b[39;49mstorage_options, is_text\u001b[39m=\u001b[39;49m\u001b[39mFalse\u001b[39;49;00m\n\u001b[1;32m   1252\u001b[0m ) \u001b[39mas\u001b[39;00m handle:\n\u001b[1;32m   1253\u001b[0m     stream \u001b[39m=\u001b[39m handle\u001b[39m.\u001b[39mhandle\n\u001b[1;32m   1254\u001b[0m     stream\u001b[39m.\u001b[39mseek(\u001b[39m0\u001b[39m)\n",
      "File \u001b[0;32m~/opt/anaconda3/lib/python3.9/site-packages/pandas/io/common.py:798\u001b[0m, in \u001b[0;36mget_handle\u001b[0;34m(path_or_buf, mode, encoding, compression, memory_map, is_text, errors, storage_options)\u001b[0m\n\u001b[1;32m    789\u001b[0m         handle \u001b[39m=\u001b[39m \u001b[39mopen\u001b[39m(\n\u001b[1;32m    790\u001b[0m             handle,\n\u001b[1;32m    791\u001b[0m             ioargs\u001b[39m.\u001b[39mmode,\n\u001b[0;32m   (...)\u001b[0m\n\u001b[1;32m    794\u001b[0m             newline\u001b[39m=\u001b[39m\u001b[39m\"\u001b[39m\u001b[39m\"\u001b[39m,\n\u001b[1;32m    795\u001b[0m         )\n\u001b[1;32m    796\u001b[0m     \u001b[39melse\u001b[39;00m:\n\u001b[1;32m    797\u001b[0m         \u001b[39m# Binary mode\u001b[39;00m\n\u001b[0;32m--> 798\u001b[0m         handle \u001b[39m=\u001b[39m \u001b[39mopen\u001b[39;49m(handle, ioargs\u001b[39m.\u001b[39;49mmode)\n\u001b[1;32m    799\u001b[0m     handles\u001b[39m.\u001b[39mappend(handle)\n\u001b[1;32m    801\u001b[0m \u001b[39m# Convert BytesIO or file objects passed with an encoding\u001b[39;00m\n",
      "\u001b[0;31mFileNotFoundError\u001b[0m: [Errno 2] No such file or directory: 'challenge_day3/teamsnames.xlsx'"
     ]
    }
   ],
   "source": [
    "from tests import tests\n",
    "from station1 import solution_station_1\n",
    "from station2 import solution_station_2\n",
    "from station3 import solution_station_3\n",
    "from station4 import solution_station_4\n",
    "from station5 import solution_station_5\n",
    "from station6 import solution_station_6\n",
    "from station7 import solution_station_7\n",
    "\n",
    "# List three observations of all inputs (not sample inputs) observed at the same time\n",
    "# Format: (time: str, station1_input: int, station2_input: str, station3_input: int, station4_input: int, station5_input: str, station6_input: int, station7_input: str)\n",
    "# Example: ('12:30:00', 1, '1990-01-01', 2, 3, \"John\", 4, \"e=mc^2\")\n",
    "\n",
    "observation1 = ('12:25:12', 99, '2024-05-12', 39416, 3941, 'Sahir', 39, 'a+c+b')\n",
    "observation2 = ('12:25:20', 99, '2024-02-15', 78510, 7851, 'Charlie', 78, 'b+e')\n",
    "observation3 = ('12:25:30', 35, '2024-02-26', 44121, 4412, 'Gonzalo', 44, 'd+b+e')\n",
    "\n",
    "def combined_algorithm(observations: tuple) -> int:\n",
    "    output1 = solution_station_1(observations[1])\n",
    "    output2 = solution_station_2(observations[2])\n",
    "    output3 = solution_station_3(observations[3])\n",
    "    output4 = solution_station_4(observations[4])\n",
    "    output5 = solution_station_5(observations[5])\n",
    "    output6 = solution_station_6(observations[6])\n",
    "    output7 = solution_station_7(observations[7])\n",
    "    assert isinstance(output1, int)\n",
    "    assert isinstance(output2, str)\n",
    "    assert isinstance(output3, bool)\n",
    "    assert isinstance(output4, bool)\n",
    "    assert isinstance(output5, int)\n",
    "    assert isinstance(output6, float)\n",
    "    assert isinstance(output7, float)\n",
    "    return output1 * int.from_bytes(output2[0].encode(\"unicode_escape\"), byteorder='big') * (3 if output3 else 2) * (5 if output4 else 4) * output5 * output6 * output7\n",
    "\n",
    "FINAL_OUTPUT1 = combined_algorithm(observation1)\n",
    "FINAL_OUTPUT2 = combined_algorithm(observation2)\n",
    "FINAL_OUTPUT3 = combined_algorithm(observation3)\n",
    "tests.Test_Exercise(combined_algorithm);"
   ]
  }
 ],
 "metadata": {
  "kernelspec": {
   "display_name": "Python 3.10.5 64-bit",
   "language": "python",
   "name": "python3"
  },
  "language_info": {
   "codemirror_mode": {
    "name": "ipython",
    "version": 3
   },
   "file_extension": ".py",
   "mimetype": "text/x-python",
   "name": "python",
   "nbconvert_exporter": "python",
   "pygments_lexer": "ipython3",
   "version": "3.9.12"
  },
  "orig_nbformat": 4,
  "vscode": {
   "interpreter": {
    "hash": "2f9d6cf1e3d8195079a65c851de355134a77367bcd714b1a5d498c42d3c07114"
   }
  }
 },
 "nbformat": 4,
 "nbformat_minor": 2
}
