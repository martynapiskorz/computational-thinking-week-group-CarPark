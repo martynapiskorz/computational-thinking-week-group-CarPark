{
 "cells": [
  {
   "cell_type": "code",
   "execution_count": null,
   "metadata": {},
   "outputs": [],
   "source": [
    "from maja.py import get_name()\n",
    "from martyna.py import string_name()"
   ]
  },
  {
   "cell_type": "code",
   "execution_count": null,
   "metadata": {},
   "outputs": [],
   "source": [
    "def into_function():\n",
    "    intro = \"This is team CarPark. We are:\" + get_name() + string_name()\n",
    "    return intro"
   ]
  }
 ],
 "metadata": {
  "language_info": {
   "name": "python"
  },
  "orig_nbformat": 4
 },
 "nbformat": 4,
 "nbformat_minor": 2
}
